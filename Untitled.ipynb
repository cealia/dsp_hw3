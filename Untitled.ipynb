{
 "cells": [
  {
   "cell_type": "code",
   "execution_count": 1,
   "metadata": {},
   "outputs": [
    {
     "name": "stdout",
     "output_type": "stream",
     "text": [
      "Help on built-in function open in module io:\n",
      "\n",
      "open(file, mode='r', buffering=-1, encoding=None, errors=None, newline=None, closefd=True, opener=None)\n",
      "    Open file and return a stream.  Raise IOError upon failure.\n",
      "    \n",
      "    file is either a text or byte string giving the name (and the path\n",
      "    if the file isn't in the current working directory) of the file to\n",
      "    be opened or an integer file descriptor of the file to be\n",
      "    wrapped. (If a file descriptor is given, it is closed when the\n",
      "    returned I/O object is closed, unless closefd is set to False.)\n",
      "    \n",
      "    mode is an optional string that specifies the mode in which the file\n",
      "    is opened. It defaults to 'r' which means open for reading in text\n",
      "    mode.  Other common values are 'w' for writing (truncating the file if\n",
      "    it already exists), 'x' for creating and writing to a new file, and\n",
      "    'a' for appending (which on some Unix systems, means that all writes\n",
      "    append to the end of the file regardless of the current seek position).\n",
      "    In text mode, if encoding is not specified the encoding used is platform\n",
      "    dependent: locale.getpreferredencoding(False) is called to get the\n",
      "    current locale encoding. (For reading and writing raw bytes use binary\n",
      "    mode and leave encoding unspecified.) The available modes are:\n",
      "    \n",
      "    ========= ===============================================================\n",
      "    Character Meaning\n",
      "    --------- ---------------------------------------------------------------\n",
      "    'r'       open for reading (default)\n",
      "    'w'       open for writing, truncating the file first\n",
      "    'x'       create a new file and open it for writing\n",
      "    'a'       open for writing, appending to the end of the file if it exists\n",
      "    'b'       binary mode\n",
      "    't'       text mode (default)\n",
      "    '+'       open a disk file for updating (reading and writing)\n",
      "    'U'       universal newline mode (deprecated)\n",
      "    ========= ===============================================================\n",
      "    \n",
      "    The default mode is 'rt' (open for reading text). For binary random\n",
      "    access, the mode 'w+b' opens and truncates the file to 0 bytes, while\n",
      "    'r+b' opens the file without truncation. The 'x' mode implies 'w' and\n",
      "    raises an `FileExistsError` if the file already exists.\n",
      "    \n",
      "    Python distinguishes between files opened in binary and text modes,\n",
      "    even when the underlying operating system doesn't. Files opened in\n",
      "    binary mode (appending 'b' to the mode argument) return contents as\n",
      "    bytes objects without any decoding. In text mode (the default, or when\n",
      "    't' is appended to the mode argument), the contents of the file are\n",
      "    returned as strings, the bytes having been first decoded using a\n",
      "    platform-dependent encoding or using the specified encoding if given.\n",
      "    \n",
      "    'U' mode is deprecated and will raise an exception in future versions\n",
      "    of Python.  It has no effect in Python 3.  Use newline to control\n",
      "    universal newlines mode.\n",
      "    \n",
      "    buffering is an optional integer used to set the buffering policy.\n",
      "    Pass 0 to switch buffering off (only allowed in binary mode), 1 to select\n",
      "    line buffering (only usable in text mode), and an integer > 1 to indicate\n",
      "    the size of a fixed-size chunk buffer.  When no buffering argument is\n",
      "    given, the default buffering policy works as follows:\n",
      "    \n",
      "    * Binary files are buffered in fixed-size chunks; the size of the buffer\n",
      "      is chosen using a heuristic trying to determine the underlying device's\n",
      "      \"block size\" and falling back on `io.DEFAULT_BUFFER_SIZE`.\n",
      "      On many systems, the buffer will typically be 4096 or 8192 bytes long.\n",
      "    \n",
      "    * \"Interactive\" text files (files for which isatty() returns True)\n",
      "      use line buffering.  Other text files use the policy described above\n",
      "      for binary files.\n",
      "    \n",
      "    encoding is the name of the encoding used to decode or encode the\n",
      "    file. This should only be used in text mode. The default encoding is\n",
      "    platform dependent, but any encoding supported by Python can be\n",
      "    passed.  See the codecs module for the list of supported encodings.\n",
      "    \n",
      "    errors is an optional string that specifies how encoding errors are to\n",
      "    be handled---this argument should not be used in binary mode. Pass\n",
      "    'strict' to raise a ValueError exception if there is an encoding error\n",
      "    (the default of None has the same effect), or pass 'ignore' to ignore\n",
      "    errors. (Note that ignoring encoding errors can lead to data loss.)\n",
      "    See the documentation for codecs.register or run 'help(codecs.Codec)'\n",
      "    for a list of the permitted encoding error strings.\n",
      "    \n",
      "    newline controls how universal newlines works (it only applies to text\n",
      "    mode). It can be None, '', '\\n', '\\r', and '\\r\\n'.  It works as\n",
      "    follows:\n",
      "    \n",
      "    * On input, if newline is None, universal newlines mode is\n",
      "      enabled. Lines in the input can end in '\\n', '\\r', or '\\r\\n', and\n",
      "      these are translated into '\\n' before being returned to the\n",
      "      caller. If it is '', universal newline mode is enabled, but line\n",
      "      endings are returned to the caller untranslated. If it has any of\n",
      "      the other legal values, input lines are only terminated by the given\n",
      "      string, and the line ending is returned to the caller untranslated.\n",
      "    \n",
      "    * On output, if newline is None, any '\\n' characters written are\n",
      "      translated to the system default line separator, os.linesep. If\n",
      "      newline is '' or '\\n', no translation takes place. If newline is any\n",
      "      of the other legal values, any '\\n' characters written are translated\n",
      "      to the given string.\n",
      "    \n",
      "    If closefd is False, the underlying file descriptor will be kept open\n",
      "    when the file is closed. This does not work when a file name is given\n",
      "    and must be True in that case.\n",
      "    \n",
      "    A custom opener can be used by passing a callable as *opener*. The\n",
      "    underlying file descriptor for the file object is then obtained by\n",
      "    calling *opener* with (*file*, *flags*). *opener* must return an open\n",
      "    file descriptor (passing os.open as *opener* results in functionality\n",
      "    similar to passing None).\n",
      "    \n",
      "    open() returns a file object whose type depends on the mode, and\n",
      "    through which the standard file operations such as reading and writing\n",
      "    are performed. When open() is used to open a file in a text mode ('w',\n",
      "    'r', 'wt', 'rt', etc.), it returns a TextIOWrapper. When used to open\n",
      "    a file in a binary mode, the returned class varies: in read binary\n",
      "    mode, it returns a BufferedReader; in write binary and append binary\n",
      "    modes, it returns a BufferedWriter, and in read/write mode, it returns\n",
      "    a BufferedRandom.\n",
      "    \n",
      "    It is also possible to use a string or bytearray as a file for both\n",
      "    reading and writing. For strings StringIO can be used like a file\n",
      "    opened in a text mode, and for bytes a BytesIO can be used like a file\n",
      "    opened in a binary mode.\n",
      "\n"
     ]
    }
   ],
   "source": [
    "help(open)"
   ]
  },
  {
   "cell_type": "code",
   "execution_count": 68,
   "metadata": {},
   "outputs": [],
   "source": [
    "with open('Big5-ZhuYin.map', encoding='big5-hkscs', mode='r') as f:\n",
    "    lines = f.readlines()\n",
    "zdic = {}\n",
    "d = {}\n",
    "for l in lines:\n",
    "    zs = list(set([i[0] for i in l.strip('\\n').split(' ')[1].split('/')]))\n",
    "    b5 = l.strip('\\n').split(' ')[0]\n",
    "    d[b5] = b5\n",
    "    for z in zs:\n",
    "        if z not in zdic:\n",
    "            zdic[z] = []\n",
    "        zdic[z].append(b5)\n",
    "with open('ZhuYin-Big5.map', encoding='big5-hkscs', mode='w') as f:\n",
    "    for k,v in zdic.items():\n",
    "        f.write(k+' ')\n",
    "        f.write(' '.join(v))\n",
    "        f.write('\\n')\n",
    "    for k,v in d.items():\n",
    "        f.write(k+' ')\n",
    "        f.write(' '.join(v))\n",
    "        f.write('\\n')"
   ]
  },
  {
   "cell_type": "code",
   "execution_count": 69,
   "metadata": {},
   "outputs": [],
   "source": [
    "with open('ZhuYin-Big5.map', encoding='big5-hkscs', mode='r') as f:\n",
    "    lines = f.readlines()"
   ]
  },
  {
   "cell_type": "code",
   "execution_count": 71,
   "metadata": {},
   "outputs": [
    {
     "data": {
      "text/plain": [
       "['ㄧ 一 乙 又 丫 么 也 已 弋 尹 刈 友 夭 尤 引 爻 牙 以 右 央 幼 由 亦 伊 仰 印 吆 因 圯 夷 屹 曳 有 羊 衣 佑 佚 冶 呀 吟 听 妖 妍 役 抑 攸 沂 矣 言 迆 邑 酉 亞 佯 依 佾 侑 夜 奄 宜 岩 延 怏 怡 押 易 杳 油 泱 沿 炎 肴 芽 迎 兗 咬 咦 咽 咿 囿 垠 奕 姨 姚 姻 宥 帟 幽 弈 彥 徉 拽 映 柚 殃 洋 洮 疫 疣 盈 研 羿 耶 胤 英 衍 要 迤 音 頁 倚 唁 唷 宴 恙 晏 殷 氧 氤 浥 烊 益 祐 秧 窈 胰 胭 舀 茵 蚓 蚜 訑 郢 偃 偯 啞 寅 崖 崤 悠 掖 掩 液 涯 淹 淫 淆 焉 琊 異 痍 眼 移 翌 莠 訝 野 陰 喲 堯 堰 壹 揖 揚 椅 氬 游 湮 焰 猶 硬 硯 腋 腌 菸 貽 軼 逸 郵 郾 陽 雁 雅 飲 塋 意 搖 暘 業 椰 楊 楹 溢 煙 煬 煆 爺 猷 瑛 義 肄 腰 葉 衙 裔 詣 遊 釉 鈾 飴 厭 夤 嫣 慇 旖 榣 演 漾 漪 熒 瑤 疑 瘍 筵 蜴 誘 遙 鄞 銀 鞅 億 儀 噎 影 憂 樣 毅 牖 瑩 窯 蔭 誼 醃 養 魷 鴉 劓 噫 嬴 憶 曄 燕 燄 穎 縊 縈 螢 諺 謁 遺 鄴 閻 頤 餚 鴦 鴨 優 壓 嬰 應 檐 營 癌 縯 翳 翼 臆 膺 謠 邀 鍚 隱 黝 彝 曜 醫 鎰 顏 颺 鼬 嚥 瀛 簷 繹 藝 藥 蟻 蠅 霪 嚶 嚴 癢 罌 耀 議 譯 贏 櫻 瓔 鶯 鷂 齦 儼 囈 懿 癮 贗 鼴 巖 纓 靨 饜 驛 驗 艷 魘 鷹 鹽 鑰 釅 豔 鸚 乂 冘 圠 仡 匜 肊 优 伢 厊 圪 异 扡 襾 阣 佒 伿 劮 卣 宎 岆 庌 扰 抁 杙 杝 沋 沇 犽 芅 侇 呦 坱 姎 岟 岰 怮 抭 抴 抰 枒 枍 殀 沶 泆 泑 牪 狖 玡 苂 苃 迓 俋 匽 垟 垔 垚 姶 姲 姷 峓 峟 帠 弇 恞 斿 昜 枻 柍 柂 柼 洟 浂 洇 洢 炴 牰 玴 珆 矨 砑 祅 穾 羑 胣 胦 苡 苭 衪 釔 剡 唈 圁 垽 垼 娮 宧 庮 悒 扆 挹 捙 桋 欭 浧 浟 烑 烎 狺 珧 珜 珚 瓵 眑 秞 窅 粌 貤 迻 迶 酏 偞 偠 偣 偤 偀 凐 啀 埶 埜 埸 埏 堐 婭 婬 娾 婩 孲 崦 崟 惔 掗 掜 梬 猗 猇 狿 痒 眱 眻 窔 紻 羕 羛 翊 聈 莤 荶 莚 蚰 蚴 袘 袎 訧 訞 逌 郔 酓 釴 閆 陭 隿 傜 喑 喭 喓 喦 堙 婸 嵃 崵 崺 嵒 愔 愝 扊 揠 揶 揜 敥 晹 晲 棪 椏 欹 殔 殗 殽 渰 渶 湚 焱 焲 猒 猰 猌 琰 筄 絪 羠 羡 聐 萒 萓 蛘 蛦 蛜 裀 袲 詒 貁 跇 軺 郼 鈏 釿 鈆 雃 鳦 亄 傿 嗌 嗂 媱 媵 嫈 徭 愮 揅 暆 朠 椸 楢 楌 椻 椼 歅 溔 溰 煠 煐 猺 瑒 睚 罨 葽 葯 裛 跠 鉠 鉯 鈶 隒 雵 靷 麀 勩 嫕 嫛 廕 廙 摿 摬 朄 榚 歋 漹 漜 瘖 碞 碤 禋 禕 禓 稦 窨 窫 緆 綖 膉 蓔 蒑 蝆 蜒 裺 覞 賏 鄢 酳 銥 銪 銦 銚 銕 靾 靿 馻 嶢 戭 槸 槱 槷 殥 潁 潩 熠 熤 熪 獟 甇 瘞 蔩 蔫 蓺 蝣 蝘 蝧 褗 褎 誾 趛 閰 鴈 黓 噞 圛 墿 嶬 嶧 嶪 憖 懌 擛 曀 殪 澺 澲 燁 熼 燚 瑿 瘱 罃 艗 蕕 蕥 虤 螘 螔 褮 諲 躽 輶 錏 閹 霒 駰 鴢 噾 嬮 寱 寲 嶷 懨 擫 擨 檍 檥 檃 濦 燡 燱 瞱 簃 繄 薏 螾 謍 謚 鍱 闉 霠 霙 顊 顃 馣 鴳 嚘 嚚 懮 懩 攁 檹 檭 毉 瀁 瀅 瀀 燿 礒 艞 藀 蟫 謻 鄾 鎑 鎣 韺 饁 黟 厴 壛 嬿 攍 櫌 瀠 甖 繶 艤 藙 豷 趭 酀 鏔 霬 顗 颻 騕 齖 巆 廮 攖 曣 瀯 瀷 瀴 爓 臙 轙 醷 醳 鐊 韽 韾 饐 騴 鰋 鶠 鶧 麙 黤 龑 甗 礯 纋 耰 蘟 蘙 蘡 觺 譻 鐿 鐷 鰩 鷁 鷃 黫 黭 癭 鷖 鷕 壧 孍 巘 蠮 蠳 觾 讌 醼 鷣 鷰 黳 齮 曮 讔 鷾 鸃 鸉 礹 襼 齸 籯 驠 黶 讞 灩 齾\\n',\n",
       " 'ㄉ 丁 刀 刁 大 丹 仃 弔 斗 歹 代 冬 叮 叨 叼 打 旦 氐 丟 吊 地 多 朵 佃 但 低 兌 呆 妒 弟 抖 杜 沌 狄 甸 盯 肚 豆 典 到 剁 咄 咚 定 岱 店 底 怛 抵 東 枓 的 邸 帝 度 待 怠 恫 柢 殆 段 毒 洞 牴 玷 玳 盹 盾 耑 訂 迪 迭 迨 酊 倒 凍 凋 娣 島 爹 疸 砥 耽 胴 蚪 釘 陡 鬥 兜 動 啖 啗 堆 堵 帶 彫 得 惦 悼 惇 掉 淡 笛 第 脰 舵 荻 蛋 袋 逗 都 釣 頂 喋 單 奠 惰 敦 棟 棣 氮 渡 痘 登 盜 短 等 答 絰 耋 詆 貂 貸 跌 逮 鈍 隊 隄 搭 搗 殿 滇 牒 當 督 睹 碘 碉 碓 蒂 董 跺 躲 道 達 遁 鈿 電 頓 鼎 凳 嘀 嘟 墊 奪 嫡 對 滴 滌 碟 端 遞 靼 儅 墮 墩 嶝 彈 德 憚 撢 敵 瘩 稻 締 緞 蝶 誕 調 賭 鄧 噹 噸 導 擋 擔 澱 澹 燉 燈 獨 篤 蕩 褡 諦 諜 踱 錠 雕 靛 懂 戴 檔 盪 瞪 磴 膽 蹈 鍍 鍛 點 黛 斷 瀆 簞 鼕 櫝 牘 犢 禱 襠 蹲 蹬 鏑 顛 鯛 竇 躉 黨 鐺 鐸 巔 疊 讀 韃 髑 癲 蠹 讜 黷 帄 忉 伅 伄 刐 忕 扚 氘 汏 玎 坉 帎 庉 扽 旳 杕 玓 疔 咑 呾 呧 坫 妲 宕 弤 彽 沊 泹 炖 狚 玬 舠 虰 虭 阽 阺 咥 哆 垤 垛 屌 峌 扂 挏 挕 敁 昳 柮 柦 柋 氡 炟 眈 砃 耷 胅 苖 苵 苳 虳 陏 陊 党 剟 唗 娗 戙 浢 瓞 痁 眣 紞 茤 荅 衴 軑 郖 飣 偳 剫 剬 啶 埭 埬 婝 婰 崠 帾 掂 捯 掇 掟 敓 梪 梑 梊 淀 涷 淂 珶 畣 痑 秺 笪 紿 羝 聃 荳 莌 蛁 袛 釱 靪 傎 匒 厧 喥 啿 堞 埵 媏 崸 惵 愓 敪 敨 椗 毲 渧 琱 琠 睇 聑 腏 臷 萣 菧 菿 萏 菂 菪 菄 觝 觛 詄 貀 跕 軧 軩 镻 靮 亶 嵣 酨 戥 楪 椴 楴 椯 瓽 痽 碇 碡 禂 窞 腶 葮 誂 豋 趓 跢 逿 鉭 馰 魛 鳭 僤 匰 墆 墑 嶀 嵽 嵿 廗 槙 獃 碲 碭 碫 碠 禘 聜 舕 蜳 蜨 蝀 蜑 裻 裰 銩 髧 魡 儋 勯 噉 嘾 墱 墯 墥 嬁 嶞 撣 撘 樀 殦 潬 潡 潪 熵 瘨 艓 蔕 蓧 蔋 蝳 褋 踮 遯 鄲 鋀 頧 餖 噠 壂 嬞 憝 憺 撉 暺 殫 毈 濎 澸 澢 璒 甋 瞗 窵 蕇 蹀 踶 邆 醏 錪 錖 闍 餤 駧 鴠 儥 嚁 壔 幬 擣 斁 檤 濧 璗 璫 癉 礅 磹 磾 篴 艜 薡 薘 螮 蹎 鍉 鍗 霘 顁 懟 甔 癜 癚 礑 簜 簟 簦 藋 薱 襌 蹢 蹛 鎝 鞮 鮵 嚪 殰 瀩 簹 繨 聸 艡 藡 蟷 襗 譈 鬌 鵽 鵰 鶇 嚲 瀻 皾 翿 鐓 鐙 霮 霯 鰈 鶨 轛 鐽 闣 灗 瓙 糴 覿 贕 躖 驐 攩 襶 欓 籪 靆 韇 韥 纛 鸐 黵 齻 讟\\n',\n",
       " 'ㄑ 七 乞 千 切 欠 犬 且 丘 仟 去 囚 巧 企 全 曲 阡 伽 劬 圻 岐 杞 求 沁 汽 迄 佺 其 券 取 奇 妾 妻 屈 怯 戕 歧 泣 泅 甽 祁 穹 羌 芹 邱 青 侵 俏 前 卻 契 恰 柒 泉 洽 畎 砌 祈 秋 茄 酋 倩 卿 峭 悄 拳 挈 氣 砠 秦 缺 耆 荃 虔 衹 訖 豈 起 區 圈 娶 崎 強 悽 情 戚 啟 棄 梂 毬 氫 淺 清 淇 淒 牽 球 畦 痊 蛆 蚯 雀 頃 喬 嵌 愜 愀 愒 晴 期 棲 棋 欺 欽 渠 琪 琴 琦 腔 萋 蛐 鈐 傾 勤 嗆 愆 搶 祺 禽 群 裙 裘 詮 鉗 鉛 僑 塹 寢 嶇 搴 敲 旗 榷 槍 歉 漆 箝 綺 蜻 蜷 誚 輕 遣 銓 齊 嶔 慶 慼 憔 撬 撳 潛 確 窮 緝 請 趣 踡 遷 噙 器 彊 憩 擒 橋 橇 樵 瘸 磬 磧 親 錢 錡 鞘 黔 擎 檣 檠 牆 璩 瞧 縴 繈 罄 薔 謙 趨 鍥 鍬 闋 瞿 竅 翹 臍 軀 鎗 闕 鞦 騎 瓊 簽 譙 蹺 鏘 鯖 鵲 麒 麴 勸 騫 鰍 譴 驅 鰭 權 竊 籤 衢 韆 齲 亓 厹 气 爿 犰 奷 屺 忔 忏 扦 朹 汔 癿 邛 邔 佉 刞 呇 坅 岍 岒 岓 庈 忴 扲 汧 汫 沏 汱 狅 芎 芑 芊 呿 坵 姏 岨 拑 抾 斨 昑 炔 盵 矼 肣 芞 芡 芩 虯 阹 俅 咠 姾 帢 弮 恘 恮 朐 浀 粁 胠 胊 苬 訄 倛 凄 勍 唚 埆 宭 峮 帩 悛 旂 桏 栖 栔 洯 烇 牷 牶 祛 紌 耹 茜 蚑 蚚 蚙 衾 釚 偢 唴 唭 圊 埼 婘 娸 婍 婜 徛 惓 掐 掮 掅 掑 桼 殑 殏 殎 殌 淭 琄 筇 紶 翑 脙 莍 袪 赹 跂 軝 軡 逑 逡 郪 郬 釮 傔 媊 媝 寑 崷 惸 愘 掔 揵 攲 敧 椌 棬 棨 棈 氰 湆 湇 湨 犈 盚 确 硞 笻 筌 絭 絟 翗 菣 萁 菃 蛪 蛩 軥 郻 酠 鈙 雂 僋 僉 傸 嗛 塙 嫀 慊 搉 楸 煢 煪 瑔 皵 碏 碕 碃 絿 綅 羥 葥 蒆 葺 萩 葋 蛷 觠 豦 跧 跫 輁 輇 遒 靲 頎 僛 劁 嘁 墘 墏 嶈 廎 愨 慳 朅 榩 榿 槏 毃 漧 漒 熗 牄 瑲 綣 綪 緀 綦 綮 蒛 蒨 蜣 蜞 蜸 觩 賕 踆 鄡 銎 靘 鬿 嘺 墝 嫶 撖 敺 斳 槧 樈 漀 璆 甈 瞏 碻 磎 篋 緧 蝵 諆 踥 踑 輤 銶 鋟 镼 頝 鳹 墽 嬙 嬛 幧 廧 懅 撽 敿 曋 橩 澿 燂 燋 燆 璚 磩 磢 篟 糗 縓 蕖 蕎 螓 褰 諿 趥 錆 錤 霋 駩 骹 髷 魼 鮂 鴝 麮 鼽 懃 懠 檎 濝 磽 磲 礄 螼 螶 襁 謒 蹌 醛 闃 顉 顅 駸 鮨 翵 黚 檶 礐 簥 繑 藄 藒 蟗 蟝 謦 蹡 騏 髜 鬈 鬵 魌 鯄 鼁 鼩 攐 櫏 瀙 罊 藭 藑 蟿 覷 趬 趫 鄿 鏚 鏹 鏒 騚 鯜 鯕 鶈 鶀 鵸 鶌 匷 攓 繾 艩 蘄 蠐 譣 躈 顣 鬐 鶖 巏 灊 灈 礭 羻 蘧 蘠 蠤 鐰 鐱 鰬 齤 欋 氍 臞 鑋 顩 鰽 玂 籧 鱋 鼜 蠸 蠷 虇 躣 麡 灥 顴 墻\\n',\n",
       " 'ㄋ 乃 女 內 廿 牛 奴 奶 尼 囝 年 氖 佞 你 努 吶 妞 尿 弄 忸 扭 男 那 呶 呢 奈 妮 妳 弩 念 怩 拈 拗 泥 南 怒 耐 虐 倪 哪 娘 娜 拿 捏 挪 涊 涅 紐 納 能 臬 逆 迺 匿 唸 您 捻 捺 旎 訥 赧 鳥 喃 惱 鈕 鈉 暖 楠 溺 煖 瑙 睨 腦 裊 農 嫩 寧 瘧 儂 撓 撚 暱 碾 輦 餒 駑 鬧 凝 噥 嬝 橈 濃 耨 膩 諾 霓 嚀 懦 擰 擬 濘 獰 膿 輾 黏 攆 檸 穠 聶 鎳 難 孃 孽 糯 鐃 囁 曩 齧 囊 釀 躡 鑷 囡 奻 艿 妠 狃 坭 孥 怓 抳 氝 炄 狋 狔 疌 肭 姩 拏 昵 柅 柟 柰 籹 苨 苶 迡 倷 屔 峱 恧 挐 挼 朒 砮 秜 衄 衲 釢 堄 婗 捼 梛 淖 淰 淣 猊 笝 笯 粘 莥 莮 豽 軜 郳 釹 婻 寍 惄 揇 敜 渿 湳 渜 猱 甯 腇 跜 跈 隉 嫋 嵲 搦 暔 腩 萳 逽 鈮 嫟 蒘 蜺 踂 馜 蔦 蝻 觬 誽 踗 輗 魶 鼐 儜 儗 嶩 橠 篞 糑 縌 臲 螚 褦 褭 諵 謔 錼 嬭 嬲 嬣 懧 簐 隬 餪 嚙 檷 獶 薴 薿 鎒 闑 鯓 夒 禰 繷 襛 譊 鯢 鯰 鶂 麑 櫱 聹 譨 醲 鼰 齞 儺 譺 躎 鷊 巕 獿 糱 蠥 鑏 鑈 戁 鬞 齯 囓 囔 攮 灢 臡 鸋 顳 齈 钀 齉 尕 哖\\n',\n",
       " 'ㄐ 九 几 久 孑 孓 己 巾 井 今 介 及 斤 加 叫 句 巨 甲 乩 交 件 伋 匠 吉 奸 尖 江 肌 臼 劫 即 君 均 夾 妓 局 岌 忌 戒 技 抉 決 汲 灸 玖 究 見 角 阱 京 佳 具 卷 咀 咎 姐 姊 季 居 屆 拒 拘 杰 沮 狙 玨 疚 糾 肩 芥 芰 近 金 亟 俊 侷 勁 姜 姣 姦 建 急 拮 既 柬 架 柩 津 洎 炬 炯 狡 界 疥 皆 紀 胛 苣 觔 計 赳 軍 迦 迥 郊 降 韭 倦 借 倔 倨 俱 兼 唧 娟 姬 家 屐 峻 徑 捐 晉 桔 桀 涇 浸 涓 浚 浹 狷 疾 疽 痂 矩 級 脊 荊 荐 記 訐 郡 酒 飢 假 健 偕 剪 堅 基 寄 寂 將 崛 悸 戛 捲 接 捷 掘 掬 救 教 旌 淨 皎 眷 祭 莢 莖 莒 袈 訣 逕 竟 傢 傑 厥 啾 就 嵇 幾 廄 戟 揀 揭 揪 晶 景 棘 椒 湔 減 焦 犄 痙 窘 窖 竣 筋 絞 結 絕 絳 菅 菁 菌 菊 蛟 街 距 進 鈞 間 閒 階 集 僅 勦 勣 嗟 嫁 嫉 戢 敬 極 楫 毽 煎 畸 睛 睫 禁 節 筧 粳 經 絹 腱 腳 舅 葭 解 詰 詨 賈 跡 跤 較 鉀 鉅 雋 靖 鳩 麂 僥 僭 兢 劂 嘉 境 截 暨 漸 盡 監 碣 竭 箕 箋 精 緊 聚 誡 跼 鉸 際 餃 僵 價 儉 劇 劍 嘰 嬌 憬 槳 漿 潔 澆 澗 獎 獗 瑾 畿 瘠 稼 稽 稷 箭 緘 羯 膠 蔣 賤 踐 踞 頡 駕 駒 鴃 儘 冀 劑 噤 據 撿 橘 機 激 璣 璟 積 縑 縉 蕨 蕉 諫 豭 輯 鋸 錦 靜 頰 頸 餞 髻 屨 擊 擠 檢 櫛 濟 濬 爵 矯 磯 礁 績 舉 艱 薑 薊 覬 講 遽 鍵 鞠 颶 駿 鮫 擷 濺 燼 癘 瞼 簡 舊 藉 薺 薦 覲 謹 蹟 醬 雞 鯽 鵑 疆 繭 繳 襟 譎 譏 蹶 轎 醮 鏡 饉 鯨 嚼 競 籍 繼 艦 覺 警 饑 齟 懼 殲 躋 鐫 觼 鑑 鑒 霽 韁 驕 攫 攪 驚 鱖 羈 鹼 韉 驥 丌 丮 勼 尐 旡 丼 伎 仱 价 伒 刉 妀 幵 朻 机 牞 犵 艽 佢 冏 呁 吤 囧 妗 岊 岕 巠 庋 彶 忣 扴 佼 佶 劼 匊 囷 坰 姖 岠 岬 怚 戔 昅 枅 极 泂 泲 洰 泇 炅 玦 玠 瓨 肵 芵 芨 虮 俓 剄 咭 姞 巹 帣 扃 挍 斪 柜 枷 毠 洊 洚 洁 牮 狊 狤 珈 玾 砎 苴 觓 倞 倢 俴 凊 凈 剞 唊 堲 埐 弳 恝 悈 悁 捄 挶 捃 揤 捁 捔 挸 栫 栨 珓 珒 珔 痀 秬 窌 竘 笄 笈 紟 紒 罝 茳 茭 蚗 蚧 蚐 袀 衱 衿 豇 迼 郟 偈 偮 啑 唶 埢 堀 堇 埧 婕 婧 娵 婛 媎 崌 崨 庴 弶 惤 惊 惍 掎 据 旍 晙 朘 梜 梮 楖 桷 桱 桾 涺 淗 焗 烴 焌 焆 猏 珺 硈 秸 笳 粔 絅 絇 耟 耞 脛 脧 舺 莙 莋 蚷 袓 觖 觙 谻 豜 赽 趼 趹 陱 傕 喈 塈 堿 婽 寋 嵑 徦 惎 揃 揟 揂 斝 椄 椐 椇 椈 湝 湫 湕 湒 焣 牋 犋 猳 琚 畯 睊 祲 筊 罥 腃 腒 臮 菹 菨 菤 菫 菳 菺 萛 蛣 袺 袶 袷 詎 趄 跏 跙 鄄 郹 鈃 鈌 鈒 靬 塉 寖 嵥 幏 廌 揫 搢 搛 暕 楗 椵 楬 楶 椷 殛 滘 溍 滐 煍 煚 犍 犌 犑 瑐 痵 睠 碅 稘 竫 筴 筥 葝 蔇 葅 葰 葌 蛺 蝍 裚 裌 裐 趌 跲 輂 輋 鉣 雎 靳 僦 僪 僬 嘂 嘄 墐 寠 嵹 廑 慬 戩 摷 斠 槉 榎 榤 榗 毄 漃 漅 漈 犗 獍 瑧 瘈 瘕 皸 穊 箐 箘 箤 緁 翞 耤 膌 蒟 蒺 蒹 虡 蜛 蜠 裾 誋 跽 銡 鞂 鬾 僸 儆 儌 劋 噘 嶕 嶠 嶜 幜 緳 憰 憍 慦 撠 撅 撟 槿 樛 樍 殣 潏 潐 潗 熲 熞 瘚 皛 糋 翦 膙 蓻 蔪 蓳 蔨 蝤 蝔 蝺 觭 諓 諅 趜 踕 踖 踙 踦 踘 鋏 鋦 靚 鞊 鞈 韏 餕 駏 駉 鳽 噭 壉 墼 寯 嶯 幯 徼 憿 擏 擳 暻 橶 橛 濈 澽 瀄 熸 燛 獧 璡 瘽 瞡 穄 窶 膲 蕀 蕑 蕝 螏 褧 褯 貑 賮 踽 錈 鋻 頵 鬳 鮈 鴐 麇 嚌 嚍 嬧 憼 曒 檟 檕 橿 殭 濜 璥 瞷 禨 穖 穚 簊 糨 顈 罽 臄 臇 蕺 薢 螹 蟂 螿 謇 蹐 蹇 鍻 隮 餰 駶 鮚 鮆 鵁 鴶 麉 屩 巀 櫅 璾 璶 癤 皦 礓 藆 藎 蟜 蟭 蟣 蟨 襋 襉 謽 貗 轇 鎵 鞬 鞫 鮶 鵊 鵛 鵋 鵙 鵘 齌 懻 癠 礛 穧 繲 蟼 譑 蹻 顜 騝 鬋 鯦 鯚 鶁 鶄 鶋 鵴 鵳 麔 瀱 瀸 瀳 矍 糮 譥 躆 轚 醵 鐍 鐎 鐖 鏶 鐑 鱀 鰎 鰔 鶛 鶪 麚 黥 櫼 櫸 爝 癪 蘜 蘮 贐 鐻 霵 鞿 鰜 鶼 鶺 鷍 鼱 齎 皭 穱 籛 羇 譾 鑇 魕 鰿 鰹 鰶 鼳 彏 戄 灚 玃 虀 蘻 蠲 鱊 鱎 鷮 鷦 鷲 鷢 齏 虃 釂 鸄 麠 襺 躤 鑯 鑳 鱭 蠼 蠽 貜 躩 驧 钁 鬮 碁\\n',\n",
       " 'ㄌ 了 力 六 令 另 叻 立 列 劣 吏 老 耒 肋 伶 冷 利 卵 吝 呂 李 牢 良 里 佬 例 來 侖 兩 冽 垃 帘 戾 拉 拎 林 泠 亮 侶 俐 俚 剌 咧 姥 律 昤 柳 流 洌 洛 泵 玲 苓 郎 陋 倆 倫 凌 哩 娌 料 旅 朗 栗 浪 浬 烙 烈 狼 狸 琉 珞 留 荔 釙 勒 啦 唳 婁 婪 崙 徠 掠 掄 捩 梁 梨 涼 淋 淚 淪 犁 率 琅 理 琍 略 硫 笠 粒 累 羚 翎 聊 聆 莉 蛉 連 陵 陸 鹵 鹿 勞 喇 喱 嵐 廊 愣 晾 氯 琳 痢 絡 菱 萊 裂 量 隆 亂 僇 廉 慄 榔 楞 楝 溜 溧 煉 瑯 痳 睞 碌 祿 稜 粱 落 虜 蜊 裡 賃 賂 路 酪 鈴 鉚 雷 零 僚 嘍 奩 嫘 寥 屢 廖 摟 榴 漓 漏 漣 滷 犖 綾 綠 綸 膂 蒞 裸 貍 辣 遛 雒 領 凜 劉 厲 嘮 嘹 寮 履 慮 憐 戮 撈 撩 樓 樂 樑 潦 犛 璃 瘤 磊 練 蓮 蔆 螂 諒 論 輛 輪 鄰 鋁 鋰 閭 魯 黎 懍 擄 擂 曆 暸 歷 濂 澧 燐 燎 璘 瘺 盧 穋 罹 賴 遴 遼 錄 霖 駱 鴒 龍 儡 勵 嶺 斂 殮 濫 癆 療 瞭 磷 窿 簍 縷 縲 聯 臉 臨 蕾 螻 螺 褸 鍊 闌 隸 嚕 壘 濾 瀏 獵 禮 糧 繚 藍 釐 離 霤 餾 魎 鯉 壟 壢 廬 懶 攏 櫚 櫓 瀨 瀝 瀘 簾 羅 羸 臘 轔 邋 鏈 鏍 鏤 隴 類 麗 麓 嚨 攔 朧 瀾 瀲 爐 瓏 礪 礫 籃 臚 藺 蘆 襤 醴 齡 儷 儸 斕 欄 櫺 爛 癩 矓 蘭 蠣 蠡 蠟 覽 鐮 鐳 露 騾 髏 囉 孿 巒 玀 籠 籟 聾 酈 鰱 戀 攣 欐 籣 蘿 邐 邏 鱗 麟 攬 鑪 靂 靈 鷺 欖 籬 籮 顱 鬣 灤 驢 纜 躪 鑾 鑼 鱸 驪 鸞 仂 屴 扐 氻 阞 尥 旯 朸 甪 剆 呬 呤 囹 坴 坽 夌 姈 岭 岦 彔 彾 怜 泐 沴 炓 狑 竻 俍 厘 咾 垏 姴 峛 峈 峎 恅 挔 柆 柃 炩 狫 珋 砅 苙 赲 倰 哢 哷 唎 埌 埒 娕 娳 崀 悢 捋 栳 栵 欴 浶 浰 浨 猁 瓴 皊 砬 砢 砳 砱 秝 粍 荖 茢 迾 郘 釕 啢 唻 圇 堎 婈 崚 崍 庲 惏 悷 惀 桹 梇 梩 梠 淩 淶 淥 淕 烺 玈 琌 硉 硌 祣 笭 翋 翏 脟 舲 莨 蚸 郲 陯 厤 喨 啷 堜 嵂 旒 棱 棶 棆 椋 湅 湸 焛 琭 硠 稂 絫 腊 菈 菉 菞 菕 菻 蛚 衖 裗 袼 詅 詈 軨 逯 亃 僆 僂 剺 塯 塛 塱 媹 嵧 巰 廇 揧 搮 楋 溓 溣 盝 睖 睩 睙 碄 碖 稑 筤 筣 粴 絽 罧 萰 葎 蓅 蜋 蛶 誄 豊 趔 輅 飹 僗 僯 嗹 塿 塶 嫪 嫠 孷 嵺 嶁 廘 廔 憀 慺 摝 摎 撂 摞 摙 漉 漻 漊 瑮 瘌 箖 箂 粼 綝 綹 綟 綡 緉 膋 蒗 蓏 蜦 蜧 裲 裬 覝 誏 踉 鄝 酹 銠 銇 嫽 嶙 嶗 嶚 憭 敹 樆 槤 樏 氀 氂 漦 潾 澇 熝 熡 獠 璉 畾 瘣 磏 窲 罶 膟 膢 蔍 蓼 蓾 蔂 蔞 賚 踛 踜 踚 輬 輘 醁 醂 鋃 鋝 閬 頛 颲 駖 壈 嬚 廩 暽 橉 橑 橯 潞 澪 澰 瘰 瞜 磥 磟 磠 窷 篥 膦 膫 蔾 錸 錴 錂 錀 閵 鴗 儢 儠 勴 壏 檁 檑 歛 璐 甐 疄 癃 瞵 簏 篱 縭 縺 翴 耬 艛 薕 蕗 薍 蕶 薐 薟 螰 蟉 褵 褳 蹓 鎯 鎏 霝 鞡 駺 鬁 鮥 鮤 鵅 鴷 麍 儱 儮 嬼 屪 懰 擽 擸 擼 濿 濼 爁 癗 磿 礌 簩 簝 繗 翷 蟧 蟟 謧 謰 謱 豂 蹗 蹥 轆 鄻 醨 醪 鎌 鎦 騋 騄 嚦 嚧 壚 嬾 巃 徿 攎 斄 曞 櫑 櫟 櫐 氌 瀧 犣 犡 瓅 瓃 簬 羷 艣 藘 藟 藜 藰 藞 蠃 蠊 襝 覶 譋 蹸 軂 轑 鏐 鏕 鏀 鏧 镽 雡 鬎 鯪 鯠 鯬 鯥 鵱 鶆 鵹 壣 曨 櫳 櫪 櫨 皪 盭 礧 礨 禲 穭 蘢 藾 藶 譧 酃 鏻 鐐 鐒 鞻 顟 飂 騮 鬑 黧 灅 灆 礱 糲 纇 纍 罍 臝 蘦 蘞 蠝 蠫 鐪 飉 飀 騹 鰡 鷅 鷎 鶹 麜 龒 奱 孋 孌 廲 攡 攦 灕 籙 籚 纑 罏 艫 蘲 蠬 蠦 蠪 襱 觻 讄 躒 躐 轠 轢 驎 鰳 鷚 鷜 鷑 儽 劙 壨 曫 欒 欏 蘺 蘱 襴 讈 豅 躘 轤 轣 鑢 鑗 鑞 鷯 黐 攭 灡 灠 瓥 禷 羉 讕 躝 醽 鑨 靇 鱧 鸁 欙 欗 欚 爦 纙 臠 虆 鑭 顲 圞 鑸 鱳 鱱 鸓 糷 靋 鸕 鸗 欞 爧 癵 鱺 鸝 裏\\n',\n",
       " 'ㄦ 二 而 耳 兒 洱 貳 爾 餌 邇 尒 佴 侕 刵 咡 峏 洏 耏 陑 栭 栮 毦 珥 胹 荋 唲 眲 聏 衈 輀 鉺 樲 駬 鮞 鴯 檽 薾\\n',\n",
       " 'ㄖ 人 儿 入 刃 仁 仍 冗 壬 日 仞 冉 扔 任 如 戎 汝 肉 妊 忍 阮 乳 染 柔 紉 若 苒 容 弱 茸 荏 茹 衽 軔 辱 偌 軟 揉 然 絨 閏 韌 飪 惹 溶 瑞 稔 榕 榮 熔 睿 蓉 認 嬈 潤 熱 銳 髯 儒 燃 篛 蕊 融 褥 蹂 嚅 孺 嶸 濡 擾 燸 繞 蟯 鎔 鞣 嚷 壤 攘 蠕 饒 鶸 瓤 禳 讓 禸 屻 汭 牣 礽 肕 肜 侞 呥 姌 朊 枘 芮 芢 帤 洳 狨 珃 耎 恁 栠 毧 粈 紝 茙 蚋 衵 訒 婑 桵 烿 荵 蛅 蚺 袡 軠 傇 喏 堧 媃 惢 棯 渃 筎 羢 腍 袽 鄀 鈤 陾 嗕 媷 媶 楺 楉 溽 煣 葇 鄏 榵 瑢 緌 蓐 蒻 銣 銋 馹 撋 箬 糅 緛 蝡 蝚 隢 叡 橪 橤 橍 氄 縟 蕘 蕤 蕠 褣 輮 遶 駥 髶 壖 擩 鍕 鍒 鵀 鴽 曘 爃 瓀 繠 臑 薷 襓 韖 儴 勷 瀜 爇 礝 騥 懹 瀼 獽 蠑 襦 鰇 鶔 爙 蘘 醹 鰫 穰 鷛 蠰 躟 鬤\\n',\n",
       " 'ㄅ 八 匕 卜 不 卞 巴 比 丙 包 北 半 叭 布 弁 必 本 白 冰 并 百 伴 伯 佈 兵 別 刨 吧 妣 孛 庇 把 扳 扮 步 汴 貝 邦 釆 阪 並 佰 併 卑 奔 姅 帛 彼 怖 拌 拔 抱 杷 杯 板 波 泊 爸 版 秉 芭 表 邶 便 保 勃 扁 拜 柄 柏 炳 玻 甭 疤 盃 背 胞 苞 苯 亳 倍 俾 剝 哺 埔 悖 捕 捌 狽 班 畚 病 砭 笆 舨 般 蚌 豹 迸 陛 匾 埠 埤 婢 婊 崩 彬 敝 敗 梆 畢 笨 絆 缽 脖 舶 荸 彪 被 部 閉 傍 備 博 報 堡 弼 悲 愎 摒 揹 斑 棒 渤 焙 筆 菠 詖 賁 貶 跋 跛 鈑 搬 搏 痺 睥 碑 稟 綁 葆 補 逼 遍 鈸 鈽 鉋 鉑 鉍 雹 靶 頒 飽 嗶 幣 弊 彆 榜 碧 箔 箄 膀 膊 蓓 裨 賓 鄙 鉼 餅 駁 鼻 撥 播 暴 標 瘢 磅 編 罷 膘 蔽 蔔 蝙 褒 褓 褊 輩 鋇 儐 壁 憊 篦 辨 辦 錶 鮑 幫 擘 斃 檗 濱 繃 臂 薄 薜 謗 豳 避 闆 擺 檳 殯 璧 臏 蹦 蹕 鎊 鞭 瀕 爆 瓣 癟 簿 簸 襞 邊 鏢 寶 辮 繽 蘗 襬 辯 霸 鱉 鰾 變 鑣 鑤 壩 灞 鬢 仈 汃 犮 伓 朼 朳 佖 伻 坌 坒 庍 弝 忭 抃 汳 疕 芐 邠 咇 咘 妼 孢 屄 岥 怭 怲 怑 怉 攽 昄 泍 玤 瓝 畀 芘 邲 邴 陃 庰 挀 昺 柲 柀 柫 枹 柭 柉 毖 洴 牬 珌 疪 祊 秕 胈 胉 苾 茇 苪 俵 唄 哱 垹 峬 挬 捗 栟 浡 狴 砵 窆 窉 窇 粄 粑 粊 趵 郣 郥 髟 偪 偋 偝 啵 埲 庳 弸 捭 掤 晡 梐 桮 桲 梖 湴 渀 珼 笣 蛂 蛃 蚾 袚 袌 豝 逋 堛 媬 寎 愊 惼 掰 揙 斌 棓 椑 椕 湢 猋 猵 琫 琲 皕 粨 絣 絔 菶 菝 萆 菢 詙 軷 鄁 鈀 閍 颩 塝 搒 斒 楅 楄 煲 煸 猼 痹 碚 碆 稗 腷 葧 蜌 誁 跰 鉡 閟 閞 飶 鳪 僰 嘌 塴 墂 嫳 彃 徶 摽 滭 滮 牓 犕 甂 碥 稫 稨 箅 粺 綼 蓖 蝂 裱 誖 豩 踄 靽 颮 馝 駂 鳵 嶓 憋 潷 熛 熚 獘 獛 獙 箯 緶 艑 蔀 蓽 褙 諘 豍 貏 踣 鄪 鋍 餑 餔 駜 骳 魃 鴇 麃 嬖 廦 氆 瘭 糒 縍 罼 艕 蕔 虣 褩 觱 錛 馞 駮 鮅 鴘 儦 儤 擯 檦 甏 篳 篰 縪 虨 蟞 褾 襒 謈 鞞 鵧 嚗 奰 懪 瀌 璸 簙 襏 謤 蹩 鄨 鎛 鎞 鞤 餺 髀 鵓 鵏 鵖 鼥 爂 犦 礡 糪 繴 臕 藨 譒 贆 蹳 鏄 鏎 霦 鵯 忁 矲 穮 蠙 襣 躄 髆 鶣 欂 襮 贔 飆 驆 鑌 鷩 鷝 鱍 驞 髕 籩 鑮 鸔 鼊 虌 驫\\n',\n",
       " 'ㄕ 十 上 勺 士 尸 山 什 升 少 手 氏 水 世 仕 史 失 市 生 甩 申 矢 石 示 妁 守 式 戍 收 汕 舌 伸 刪 吮 抒 束 杉 杓 沙 沈 芍 豕 身 事 侍 使 刷 叔 受 呻 姍 始 尚 昇 疝 社 舍 芟 虱 邵 哂 室 屎 屍 帥 恃 拭 拾 拴 施 是 柿 牲 狩 珊 甚 省 砂 耍 舢 衫 述 閂 食 首 哨 射 師 恕 扇 捎 時 晒 晌 書 朔 梳 栓 殊 涉 砷 神 紗 舐 衰 訕 閃 陞 倏 參 商 售 奢 孰 庶 授 捨 梢 殺 淑 涮 深 爽 率 疏 盛 笙 紹 紳 脤 莎 蛇 術 設 豉 赦 逝 剩 勝 暑 甥 稍 稅 善 腎 舒 舜 菽 視 跚 順 黍 傷 傻 勢 嗜 塒 弒 慎 溼 煞 獅 筮 署 聖 蜀 蜃 裟 試 詩 軾 飾 鼠 塾 墅 塽 壽 實 摔 摻 漱 滲 煽 睡 碩 綬 蝕 裳 誓 說 賒 韶 骰 奭 審 數 樞 殤 潸 熟 瘦 蔬 蝨 誰 豎 賞 適 駛 噬 擅 樹 燒 篩 膳 輸 霎 曙 橾 濕 瞬 縿 聲 薯 蟀 螫 賸 霜 嬸 瀋 繕 觴 雙 鯊 爍 獸 繩 羶 識 孀 贍 釋 屬 攝 麝 贖 曬 鑠 鱔 殳 仩 圣 屾 阠 佘 劭 卲 呏 戺 邥 侁 冼 妽 抻 杸 沭 泩 狌 侺 厙 奓 姝 姠 柛 氠 牊 狦 珅 玿 矧 祋 籸 胂 苫 邿 陎 唑 峷 帨 弰 捑 涗 烒 猀 甡 眒 眚 祏 秫 紓 荍 赸 陜 偗 唼 唰 啥 埱 婌 帴 掞 挻 欶 焂 猞 笘 絁 莦 袑 軗 釤 喢 媞 寔 尌 崼 掱 揲 揓 揗 晱 湁 湜 湤 湦 烻 焺 痧 睄 硰 脽 萐 詍 貰 貹 剼 嗄 嗍 嵊 揱 搠 搧 旓 楯 歃 溡 溗 溮 睒 筲 綀 翛 艄 葹 葚 葠 裋 裞 詵 跩 鈰 鉥 鉐 鉎 慡 摴 摲 摋 榯 槊 漺 漡 箑 翣 蒴 蓍 蒔 跾 輎 鉽 鳲 儃 墠 墡 樗 樧 樉 澍 潲 潻 獡 箷 箾 箵 翨 艏 蔏 蔎 蔱 褆 覢 諗 鄯 鋠 銴 魦 嬗 憴 澨 燊 瞚 穇 縔 蕣 蕱 螄 諟 諡 賰 駪 檨 瞫 繂 螪 褷 謆 遾 閷 髾 鮛 攄 癙 簭 謪 譇 鎙 韘 騇 鮹 鼫 鼪 儵 糬 繺 藲 蟺 蠂 襡 鎩 鏣 鬊 鵿 鵨 鼭 灀 譝 騸 鯷 鶐 齛 孈 孇 灄 襩 襫 鬺 鰣 鰤 鶳 礵 覾 讅 韣 鷞 艭 衋 鱦 鸀 襹 虪 驦 钃 繌\\n']"
      ]
     },
     "execution_count": 71,
     "metadata": {},
     "output_type": "execute_result"
    }
   ],
   "source": [
    "lines[:10]"
   ]
  },
  {
   "cell_type": "code",
   "execution_count": 58,
   "metadata": {},
   "outputs": [
    {
     "data": {
      "text/plain": [
       "<_io.BufferedReader name='Big5-ZhuYin.map'>"
      ]
     },
     "execution_count": 58,
     "metadata": {},
     "output_type": "execute_result"
    }
   ],
   "source": [
    "f.buffer"
   ]
  },
  {
   "cell_type": "code",
   "execution_count": 44,
   "metadata": {},
   "outputs": [
    {
     "data": {
      "text/plain": [
       "13009"
      ]
     },
     "execution_count": 44,
     "metadata": {},
     "output_type": "execute_result"
    }
   ],
   "source": [
    "len(lines)"
   ]
  },
  {
   "cell_type": "code",
   "execution_count": 52,
   "metadata": {},
   "outputs": [
    {
     "name": "stderr",
     "output_type": "stream",
     "text": [
      "100%|██████████| 35/35 [00:00<00:00, 4002.09it/s]"
     ]
    },
    {
     "name": "stdout",
     "output_type": "stream",
     "text": [
      "ㄧ set()\n",
      "ㄉ set()\n",
      "ㄑ set()\n",
      "ㄋ set()\n",
      "ㄐ set()\n",
      "ㄌ set()\n",
      "ㄦ set()\n",
      "ㄖ set()\n",
      "ㄅ set()\n",
      "ㄕ {'率'}\n",
      "ㄙ set()\n",
      "ㄒ {'省', '閒'}\n",
      "ㄓ set()\n",
      "ㄨ set()\n",
      "ㄈ set()\n",
      "ㄩ {'樂'}\n",
      "ㄔ {'傳', '長', '朝', '重'}\n",
      "ㄎ set()\n",
      "ㄊ {'彈', '調'}\n",
      "ㄗ {'暫'}\n",
      "ㄘ {'賜', '從', '參'}\n",
      "ㄍ set()\n",
      "ㄏ {'行', '嚇'}\n",
      "ㄆ {'埔', '波', '便', '埤'}\n",
      "ㄜ set()\n",
      "ㄇ set()\n",
      "ㄠ set()\n",
      "ㄢ set()\n",
      "ㄞ set()\n",
      "ㄤ set()\n",
      "ㄚ set()\n",
      "ㄛ set()\n",
      "ㄣ set()\n",
      "ㄡ set()\n",
      "ㄥ set()\n",
      "0\n"
     ]
    },
    {
     "name": "stderr",
     "output_type": "stream",
     "text": [
      "\n"
     ]
    }
   ],
   "source": [
    "from tqdm import tqdm\n",
    "n = 0\n",
    "s = set()\n",
    "for k,v in tqdm(zdic.items(), total=len(zdic.items())):\n",
    "    print(k, set(v).intersection(s))\n",
    "    s  = s.union(set(v))\n",
    "print(n)"
   ]
  },
  {
   "cell_type": "code",
   "execution_count": 41,
   "metadata": {},
   "outputs": [
    {
     "data": {
      "text/plain": [
       "13009"
      ]
     },
     "execution_count": 41,
     "metadata": {},
     "output_type": "execute_result"
    }
   ],
   "source": [
    "len(d)"
   ]
  },
  {
   "cell_type": "code",
   "execution_count": 42,
   "metadata": {},
   "outputs": [
    {
     "data": {
      "text/plain": [
       "35"
      ]
     },
     "execution_count": 42,
     "metadata": {},
     "output_type": "execute_result"
    }
   ],
   "source": [
    "len(zdic.keys())"
   ]
  },
  {
   "cell_type": "code",
   "execution_count": 43,
   "metadata": {},
   "outputs": [
    {
     "data": {
      "text/plain": [
       "dict_keys(['ㄧ', 'ㄉ', 'ㄑ', 'ㄋ', 'ㄐ', 'ㄌ', 'ㄦ', 'ㄖ', 'ㄅ', 'ㄕ', 'ㄙ', 'ㄒ', 'ㄓ', 'ㄨ', 'ㄈ', 'ㄩ', 'ㄔ', 'ㄎ', 'ㄊ', 'ㄗ', 'ㄘ', 'ㄍ', 'ㄏ', 'ㄆ', 'ㄜ', 'ㄇ', 'ㄠ', 'ㄢ', 'ㄞ', 'ㄤ', 'ㄚ', 'ㄛ', 'ㄣ', 'ㄡ', 'ㄥ'])"
      ]
     },
     "execution_count": 43,
     "metadata": {},
     "output_type": "execute_result"
    }
   ],
   "source": [
    "zdic.keys()"
   ]
  },
  {
   "cell_type": "code",
   "execution_count": 30,
   "metadata": {},
   "outputs": [
    {
     "data": {
      "text/plain": [
       "['ㄧˊ', 'ㄧˋ', 'ㄧˍ']"
      ]
     },
     "execution_count": 30,
     "metadata": {},
     "output_type": "execute_result"
    }
   ],
   "source": [
    "lines[0].strip('\\n').split(' ')[1].split('/')\n",
    "#lines[0].strip('\\n').split(' ')[0]"
   ]
  },
  {
   "cell_type": "code",
   "execution_count": 32,
   "metadata": {},
   "outputs": [
    {
     "data": {
      "text/plain": [
       "[1, 2, 3]"
      ]
     },
     "execution_count": 32,
     "metadata": {},
     "output_type": "execute_result"
    }
   ],
   "source": [
    "list(set([1,2,3,3]))"
   ]
  },
  {
   "cell_type": "code",
   "execution_count": 25,
   "metadata": {},
   "outputs": [
    {
     "data": {
      "text/plain": [
       "['一 ㄧˊ/ㄧˋ/ㄧˍ\\n',\n",
       " '乙 ㄧˇ\\n',\n",
       " '丁 ㄉㄧㄥˍ\\n',\n",
       " '七 ㄑㄧˍ\\n',\n",
       " '乃 ㄋㄞˇ\\n',\n",
       " '九 ㄐㄧㄡˇ\\n',\n",
       " '了 ㄌㄜ˙/ㄌㄧㄠˇ\\n',\n",
       " '二 ㄦˋ\\n',\n",
       " '人 ㄖㄣˊ\\n',\n",
       " '儿 ㄖㄣˊ\\n']"
      ]
     },
     "execution_count": 25,
     "metadata": {},
     "output_type": "execute_result"
    }
   ],
   "source": [
    "lines[:10]"
   ]
  },
  {
   "cell_type": "code",
   "execution_count": 14,
   "metadata": {},
   "outputs": [
    {
     "name": "stdout",
     "output_type": "stream",
     "text": [
      "Help on TextIOWrapper object:\n",
      "\n",
      "class TextIOWrapper(_TextIOBase)\n",
      " |  Character and line based layer over a BufferedIOBase object, buffer.\n",
      " |  \n",
      " |  encoding gives the name of the encoding that the stream will be\n",
      " |  decoded or encoded with. It defaults to locale.getpreferredencoding(False).\n",
      " |  \n",
      " |  errors determines the strictness of encoding and decoding (see\n",
      " |  help(codecs.Codec) or the documentation for codecs.register) and\n",
      " |  defaults to \"strict\".\n",
      " |  \n",
      " |  newline controls how line endings are handled. It can be None, '',\n",
      " |  '\\n', '\\r', and '\\r\\n'.  It works as follows:\n",
      " |  \n",
      " |  * On input, if newline is None, universal newlines mode is\n",
      " |    enabled. Lines in the input can end in '\\n', '\\r', or '\\r\\n', and\n",
      " |    these are translated into '\\n' before being returned to the\n",
      " |    caller. If it is '', universal newline mode is enabled, but line\n",
      " |    endings are returned to the caller untranslated. If it has any of\n",
      " |    the other legal values, input lines are only terminated by the given\n",
      " |    string, and the line ending is returned to the caller untranslated.\n",
      " |  \n",
      " |  * On output, if newline is None, any '\\n' characters written are\n",
      " |    translated to the system default line separator, os.linesep. If\n",
      " |    newline is '' or '\\n', no translation takes place. If newline is any\n",
      " |    of the other legal values, any '\\n' characters written are translated\n",
      " |    to the given string.\n",
      " |  \n",
      " |  If line_buffering is True, a call to flush is implied when a call to\n",
      " |  write contains a newline character.\n",
      " |  \n",
      " |  Method resolution order:\n",
      " |      TextIOWrapper\n",
      " |      _TextIOBase\n",
      " |      _IOBase\n",
      " |      builtins.object\n",
      " |  \n",
      " |  Methods defined here:\n",
      " |  \n",
      " |  __getstate__(...)\n",
      " |  \n",
      " |  __init__(self, /, *args, **kwargs)\n",
      " |      Initialize self.  See help(type(self)) for accurate signature.\n",
      " |  \n",
      " |  __new__(*args, **kwargs) from builtins.type\n",
      " |      Create and return a new object.  See help(type) for accurate signature.\n",
      " |  \n",
      " |  __next__(self, /)\n",
      " |      Implement next(self).\n",
      " |  \n",
      " |  __repr__(self, /)\n",
      " |      Return repr(self).\n",
      " |  \n",
      " |  close(self, /)\n",
      " |      Flush and close the IO object.\n",
      " |      \n",
      " |      This method has no effect if the file is already closed.\n",
      " |  \n",
      " |  detach(self, /)\n",
      " |      Separate the underlying buffer from the TextIOBase and return it.\n",
      " |      \n",
      " |      After the underlying buffer has been detached, the TextIO is in an\n",
      " |      unusable state.\n",
      " |  \n",
      " |  fileno(self, /)\n",
      " |      Returns underlying file descriptor if one exists.\n",
      " |      \n",
      " |      OSError is raised if the IO object does not use a file descriptor.\n",
      " |  \n",
      " |  flush(self, /)\n",
      " |      Flush write buffers, if applicable.\n",
      " |      \n",
      " |      This is not implemented for read-only and non-blocking streams.\n",
      " |  \n",
      " |  isatty(self, /)\n",
      " |      Return whether this is an 'interactive' stream.\n",
      " |      \n",
      " |      Return False if it can't be determined.\n",
      " |  \n",
      " |  read(self, size=-1, /)\n",
      " |      Read at most n characters from stream.\n",
      " |      \n",
      " |      Read from underlying buffer until we have n characters or we hit EOF.\n",
      " |      If n is negative or omitted, read until EOF.\n",
      " |  \n",
      " |  readable(self, /)\n",
      " |      Return whether object was opened for reading.\n",
      " |      \n",
      " |      If False, read() will raise OSError.\n",
      " |  \n",
      " |  readline(self, size=-1, /)\n",
      " |      Read until newline or EOF.\n",
      " |      \n",
      " |      Returns an empty string if EOF is hit immediately.\n",
      " |  \n",
      " |  seek(self, cookie, whence=0, /)\n",
      " |      Change stream position.\n",
      " |      \n",
      " |      Change the stream position to the given byte offset. The offset is\n",
      " |      interpreted relative to the position indicated by whence.  Values\n",
      " |      for whence are:\n",
      " |      \n",
      " |      * 0 -- start of stream (the default); offset should be zero or positive\n",
      " |      * 1 -- current stream position; offset may be negative\n",
      " |      * 2 -- end of stream; offset is usually negative\n",
      " |      \n",
      " |      Return the new absolute position.\n",
      " |  \n",
      " |  seekable(self, /)\n",
      " |      Return whether object supports random access.\n",
      " |      \n",
      " |      If False, seek(), tell() and truncate() will raise OSError.\n",
      " |      This method may need to do a test seek().\n",
      " |  \n",
      " |  tell(self, /)\n",
      " |      Return current stream position.\n",
      " |  \n",
      " |  truncate(self, pos=None, /)\n",
      " |      Truncate file to size bytes.\n",
      " |      \n",
      " |      File pointer is left unchanged.  Size defaults to the current IO\n",
      " |      position as reported by tell().  Returns the new size.\n",
      " |  \n",
      " |  writable(self, /)\n",
      " |      Return whether object was opened for writing.\n",
      " |      \n",
      " |      If False, write() will raise OSError.\n",
      " |  \n",
      " |  write(self, text, /)\n",
      " |      Write string to stream.\n",
      " |      Returns the number of characters written (which is always equal to\n",
      " |      the length of the string).\n",
      " |  \n",
      " |  ----------------------------------------------------------------------\n",
      " |  Data descriptors defined here:\n",
      " |  \n",
      " |  buffer\n",
      " |  \n",
      " |  closed\n",
      " |  \n",
      " |  encoding\n",
      " |      Encoding of the text stream.\n",
      " |      \n",
      " |      Subclasses should override.\n",
      " |  \n",
      " |  errors\n",
      " |      The error setting of the decoder or encoder.\n",
      " |      \n",
      " |      Subclasses should override.\n",
      " |  \n",
      " |  line_buffering\n",
      " |  \n",
      " |  name\n",
      " |  \n",
      " |  newlines\n",
      " |      Line endings translated so far.\n",
      " |      \n",
      " |      Only line endings translated during reading are considered.\n",
      " |      \n",
      " |      Subclasses should override.\n",
      " |  \n",
      " |  ----------------------------------------------------------------------\n",
      " |  Methods inherited from _IOBase:\n",
      " |  \n",
      " |  __del__(...)\n",
      " |  \n",
      " |  __enter__(...)\n",
      " |  \n",
      " |  __exit__(...)\n",
      " |  \n",
      " |  __iter__(self, /)\n",
      " |      Implement iter(self).\n",
      " |  \n",
      " |  readlines(self, hint=-1, /)\n",
      " |      Return a list of lines from the stream.\n",
      " |      \n",
      " |      hint can be specified to control the number of lines read: no more\n",
      " |      lines will be read if the total size (in bytes/characters) of all\n",
      " |      lines so far exceeds hint.\n",
      " |  \n",
      " |  writelines(self, lines, /)\n",
      " |  \n",
      " |  ----------------------------------------------------------------------\n",
      " |  Data descriptors inherited from _IOBase:\n",
      " |  \n",
      " |  __dict__\n",
      "\n"
     ]
    }
   ],
   "source": [
    "help(f)"
   ]
  },
  {
   "cell_type": "code",
   "execution_count": null,
   "metadata": {},
   "outputs": [],
   "source": []
  }
 ],
 "metadata": {
  "kernelspec": {
   "display_name": "Python 3",
   "language": "python",
   "name": "python3"
  },
  "language_info": {
   "codemirror_mode": {
    "name": "ipython",
    "version": 3
   },
   "file_extension": ".py",
   "mimetype": "text/x-python",
   "name": "python",
   "nbconvert_exporter": "python",
   "pygments_lexer": "ipython3",
   "version": "3.6.8"
  }
 },
 "nbformat": 4,
 "nbformat_minor": 4
}
